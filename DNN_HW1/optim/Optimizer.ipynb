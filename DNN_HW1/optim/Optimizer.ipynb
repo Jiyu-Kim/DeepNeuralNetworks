{
  "cells": [
    {
      "cell_type": "code",
      "metadata": {},
      "source": [
        "import numpy as np\n",
        "\n",
        "\"\"\"\n",
        "DO NOT EDIT ANY PARTS OTHER THAN \"EDIT HERE\" !!!\n",
        "\n",
        "[Description]\n",
        "__init__ - Initialize necessary variables for optimizer class\n",
        "input   : gamma, epsilon\n",
        "return  : X\n",
        "\n",
        "update   - Update weight for one minibatch\n",
        "input   : w - current weight, grad - gradient for w, lr - learning rate\n",
        "return  : updated weight\n",
        "\"\"\"\n",
        "\n",
        "class SGD:\n",
        "    def __init__(self, gamma, epsilon):\n",
        "        self.gamma = gamma\n",
        "        self.epsilon = epsilon\n",
        "\n",
        "    def update(self, w, grad, lr):\n",
        "        updated_weight = None\n",
        "        updated_weight = w - (grad * lr)\n",
        "        return updated_weight\n"
      ],
      "outputs": [],
      "execution_count": null
    }
  ],
  "metadata": {
    "anaconda-cloud": {},
    "kernelspec": {
      "display_name": "Python 3",
      "language": "python",
      "name": "python3"
    },
    "language_info": {
      "codemirror_mode": {
        "name": "ipython",
        "version": 3
      },
      "file_extension": ".py",
      "mimetype": "text/x-python",
      "name": "python",
      "nbconvert_exporter": "python",
      "pygments_lexer": "ipython3",
      "version": "3.6.1"
    }
  },
  "nbformat": 4,
  "nbformat_minor": 4
}